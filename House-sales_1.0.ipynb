{
 "cells": [
  {
   "cell_type": "markdown",
   "id": "7f38382f",
   "metadata": {},
   "source": [
    "# Predictor de precios inmobiliarios:"
   ]
  },
  {
   "cell_type": "code",
   "execution_count": 1,
   "id": "cdd9457a",
   "metadata": {},
   "outputs": [],
   "source": [
    "import pandas as pd\n",
    "import matplotlib.pyplot as plt\n",
    "import seaborn as sns\n",
    "import numpy as np\n",
    "from sklearn.linear_model import LassoCV\n",
    "\n",
    "from sklearn.base import BaseEstimator, TransformerMixin\n",
    "from sklearn.compose import ColumnTransformer\n",
    "from sklearn.pipeline import Pipeline\n",
    "from sklearn.impute import SimpleImputer\n",
    "\n",
    "from sklearn.preprocessing import MinMaxScaler, LabelBinarizer, OneHotEncoder, LabelEncoder\n",
    "from sklearn.feature_selection import SelectKBest, chi2\n",
    "from sklearn.model_selection import train_test_split\n",
    "\n",
    "from sklearn.base import TransformerMixin, BaseEstimator\n",
    "from sklearn.ensemble import GradientBoostingRegressor\n",
    "from sklearn.metrics import mean_squared_error"
   ]
  },
  {
   "cell_type": "code",
   "execution_count": 2,
   "id": "9c408ddc",
   "metadata": {},
   "outputs": [
    {
     "name": "stdout",
     "output_type": "stream",
     "text": [
      "<class 'pandas.core.frame.DataFrame'>\n",
      "RangeIndex: 1460 entries, 0 to 1459\n",
      "Data columns (total 81 columns):\n",
      " #   Column         Non-Null Count  Dtype  \n",
      "---  ------         --------------  -----  \n",
      " 0   Id             1460 non-null   int64  \n",
      " 1   MSSubClass     1460 non-null   int64  \n",
      " 2   MSZoning       1460 non-null   object \n",
      " 3   LotFrontage    1201 non-null   float64\n",
      " 4   LotArea        1460 non-null   int64  \n",
      " 5   Street         1460 non-null   object \n",
      " 6   Alley          91 non-null     object \n",
      " 7   LotShape       1460 non-null   object \n",
      " 8   LandContour    1460 non-null   object \n",
      " 9   Utilities      1460 non-null   object \n",
      " 10  LotConfig      1460 non-null   object \n",
      " 11  LandSlope      1460 non-null   object \n",
      " 12  Neighborhood   1460 non-null   object \n",
      " 13  Condition1     1460 non-null   object \n",
      " 14  Condition2     1460 non-null   object \n",
      " 15  BldgType       1460 non-null   object \n",
      " 16  HouseStyle     1460 non-null   object \n",
      " 17  OverallQual    1460 non-null   int64  \n",
      " 18  OverallCond    1460 non-null   int64  \n",
      " 19  YearBuilt      1460 non-null   int64  \n",
      " 20  YearRemodAdd   1460 non-null   int64  \n",
      " 21  RoofStyle      1460 non-null   object \n",
      " 22  RoofMatl       1460 non-null   object \n",
      " 23  Exterior1st    1460 non-null   object \n",
      " 24  Exterior2nd    1460 non-null   object \n",
      " 25  MasVnrType     1452 non-null   object \n",
      " 26  MasVnrArea     1452 non-null   float64\n",
      " 27  ExterQual      1460 non-null   object \n",
      " 28  ExterCond      1460 non-null   object \n",
      " 29  Foundation     1460 non-null   object \n",
      " 30  BsmtQual       1423 non-null   object \n",
      " 31  BsmtCond       1423 non-null   object \n",
      " 32  BsmtExposure   1422 non-null   object \n",
      " 33  BsmtFinType1   1423 non-null   object \n",
      " 34  BsmtFinSF1     1460 non-null   int64  \n",
      " 35  BsmtFinType2   1422 non-null   object \n",
      " 36  BsmtFinSF2     1460 non-null   int64  \n",
      " 37  BsmtUnfSF      1460 non-null   int64  \n",
      " 38  TotalBsmtSF    1460 non-null   int64  \n",
      " 39  Heating        1460 non-null   object \n",
      " 40  HeatingQC      1460 non-null   object \n",
      " 41  CentralAir     1460 non-null   object \n",
      " 42  Electrical     1459 non-null   object \n",
      " 43  1stFlrSF       1460 non-null   int64  \n",
      " 44  2ndFlrSF       1460 non-null   int64  \n",
      " 45  LowQualFinSF   1460 non-null   int64  \n",
      " 46  GrLivArea      1460 non-null   int64  \n",
      " 47  BsmtFullBath   1460 non-null   int64  \n",
      " 48  BsmtHalfBath   1460 non-null   int64  \n",
      " 49  FullBath       1460 non-null   int64  \n",
      " 50  HalfBath       1460 non-null   int64  \n",
      " 51  BedroomAbvGr   1460 non-null   int64  \n",
      " 52  KitchenAbvGr   1460 non-null   int64  \n",
      " 53  KitchenQual    1460 non-null   object \n",
      " 54  TotRmsAbvGrd   1460 non-null   int64  \n",
      " 55  Functional     1460 non-null   object \n",
      " 56  Fireplaces     1460 non-null   int64  \n",
      " 57  FireplaceQu    770 non-null    object \n",
      " 58  GarageType     1379 non-null   object \n",
      " 59  GarageYrBlt    1379 non-null   float64\n",
      " 60  GarageFinish   1379 non-null   object \n",
      " 61  GarageCars     1460 non-null   int64  \n",
      " 62  GarageArea     1460 non-null   int64  \n",
      " 63  GarageQual     1379 non-null   object \n",
      " 64  GarageCond     1379 non-null   object \n",
      " 65  PavedDrive     1460 non-null   object \n",
      " 66  WoodDeckSF     1460 non-null   int64  \n",
      " 67  OpenPorchSF    1460 non-null   int64  \n",
      " 68  EnclosedPorch  1460 non-null   int64  \n",
      " 69  3SsnPorch      1460 non-null   int64  \n",
      " 70  ScreenPorch    1460 non-null   int64  \n",
      " 71  PoolArea       1460 non-null   int64  \n",
      " 72  PoolQC         7 non-null      object \n",
      " 73  Fence          281 non-null    object \n",
      " 74  MiscFeature    54 non-null     object \n",
      " 75  MiscVal        1460 non-null   int64  \n",
      " 76  MoSold         1460 non-null   int64  \n",
      " 77  YrSold         1460 non-null   int64  \n",
      " 78  SaleType       1460 non-null   object \n",
      " 79  SaleCondition  1460 non-null   object \n",
      " 80  SalePrice      1460 non-null   int64  \n",
      "dtypes: float64(3), int64(35), object(43)\n",
      "memory usage: 924.0+ KB\n",
      "None\n"
     ]
    }
   ],
   "source": [
    "df = pd.read_excel(\"train.xlsx\", \"train\")\n",
    "\n",
    "print(df.info())"
   ]
  },
  {
   "cell_type": "markdown",
   "id": "52a58d3e",
   "metadata": {},
   "source": [
    "## Imputaciones:\n",
    "\n",
    "- El campo MSSubClass lo imputamos a la moda.\n",
    "- El campo MSZoning lo imputaremos a la moda.\n",
    "- El campo LotFrontage lo imputaremos a la mediana.\n",
    "- El campo LotArea lo imputaremos a la mediana.\n",
    "- El campo Street lo imputaremos a la moda.\n",
    "- El campo Alley lo imputaremos a no_item.\n",
    "- El campo LotShape lo imputaremos a la moda.\n",
    "- El campo LandContour lo imputaremos a la moda.\n",
    "- El campo Utilities lo imputaremos a la moda.\n",
    "- El campo LotConfig lo imputaremos a la moda.\n",
    "- El campo LandSlope lo imputamos a la moda.\n",
    "- El campo Neighborhood lo imputamos a la moda.\n",
    "- El campo Condition1 lo imputamos a la moda.\n",
    "- El campo Condition2 lo imputamos a la moda.\n",
    "- El campo BldgType lo imputamos a la moda.\n",
    "- El campo HouseStyle lo imputmos a la moda.\n",
    "- El campo OverallQual lo imputamos a la mediana.\n",
    "- El campo OverallCond lo imputamos a la mediana.\n",
    "- El campo YearBuilt lo imputamos a la mediana.\n",
    "- El campo YearRemodAdd lo imputamos a la mediana.\n",
    "- El campo RoofStyle lo imputamos a moda.\n",
    "- El campo RoofMatl lo imputamos a moda.\n",
    "- El campo Exterior1st lo imputamos a la moda.\n",
    "- El campo Exterior2nd lo imputamos a la moda.\n",
    "- El campo MasVnrType lo imputaremos a la moda.\n",
    "- El campo MasVnrArea lo imputaremos a la mediana.\n",
    "- El campo ExterQual lo imputamos a la moda.\n",
    "- El campo ExterCond lo imputamos a la moda.\n",
    "- El campo Foundation lo imputamos a la moda.\n",
    "- El campo BsmtQual lo imputaremos a no_item.\n",
    "- El campo BsmtCond lo imputaremos a no_item.\n",
    "- El campo BsmtExposure lo imputaremos a no_item.\n",
    "- El campo BsmtFinType1 lo imputaremos a no_item.\n",
    "- El campo BsmtFinSF1 lo imputamos a la mediana.\n",
    "- El campo BsmtFinType2 lo imputaremos a no_item.\n",
    "- El campo BsmtFinSF2 lo imputamos a la mediana.\n",
    "- El campo BsmtUnfSF lo imputamos a la mediana.\n",
    "- El campo TotalBsmtSF lo imputamos a la mediana.\n",
    "- El campo Heating lo imputamos a la moda.\n",
    "- El campo HeatingQC lo imputamos a la moda.\n",
    "- El campo CentralAir lo imputamos a la moda.\n",
    "- El campo Electrical lo imputaremos a la moda.\n",
    "- El campo 1stFlrSF lo imputamos a la mediana.\n",
    "- El campo 2ndFlrSF lo imputamos a la mediana.\n",
    "- El campo LowQualFinSF lo imputamos a la mediana.\n",
    "- El campo GrLivArea lo imputamos a la mediana.\n",
    "- El campo BsmtFullBath lo imputamos a la mediana.\n",
    "- El campo BsmtHalfBath lo imputamos a la mediana.\n",
    "- El campo FullBath lo imputamos a la mediana.\n",
    "- El campo HalfBath lo imputamos a la mediana.\n",
    "- El campo BedroomAbvGr lo imputamos a la mediana.\n",
    "- El campo KitchenAbvGr lo imputamos a la mediana.\n",
    "- El campo KitchenQual lo imputamos a la moda.\n",
    "- El campo TotRmsAbvGrd lo imputamos a la mediana.\n",
    "- El campo Functional lo imputamos a moda.\n",
    "- El campo Fireplaces lo imputamos a la mediana.\n",
    "- El campo FireplaceQu lo imputaremos a no_item.\n",
    "- El campo GarageType lo imputaremos a no_item.\n",
    "- El campo GarageYrBlt lo imputaremos a la mediana.\n",
    "- El campo GarageFinish lo imputaremos a no_item.\n",
    "- El campo GarageQual lo imputaremos a no_item.\n",
    "- El campo GarageCars lo imputeremos a la mediana.\n",
    "- El campo GarageArea lo imputamos a la mediana.\n",
    "- El campo GarageQual lo imputamos a no_item.\n",
    "- El campo GarageCond lo imputaremos a no_item.\n",
    "- El campo PavedDrive lo imputamos a la moda.\n",
    "- El campo WookDeckSF lo imputamos a la mediana.\n",
    "- El campo OpenPorchSF lo imputamos la mediana.\n",
    "- El campo EnclosedPorch lo imputamos a la mediana.\n",
    "- El campo 3SsnPorch lo imputamos a la mediana.\n",
    "- El campo ScreenPorch lo imputamos a la mediana.\n",
    "- El campo PoolArea lo imputamos a la mediana.\n",
    "- El campo PoolQC lo imputamos a no_item.\n",
    "- El campo Fence lo imputamos a no_item.\n",
    "- El campo MiscFeature lo imputamos a no_item.\n",
    "- El campo MiscVal lo imputamos a la mediana.\n",
    "- El campo MoSold lo imputamos a la moda.\n",
    "- El campo YrSold lo imputamos a la mediana.\n",
    "- El campo SaleType lo imputamos a la moda.\n",
    "- El campo SaleCondition lo imputamos a la moda."
   ]
  },
  {
   "cell_type": "code",
   "execution_count": 3,
   "id": "0d1a1c99",
   "metadata": {},
   "outputs": [],
   "source": [
    "seed = np.random.randint(1, 10000)"
   ]
  },
  {
   "cell_type": "code",
   "execution_count": 4,
   "id": "121c2101",
   "metadata": {},
   "outputs": [],
   "source": [
    "y = df.pop('SalePrice')\n",
    "\n",
    "X = df\n",
    "X = X.drop(\"Id\", axis=1)\n",
    "\n",
    "X_train, X_test, y_train, y_test = train_test_split(X, y, test_size=0.2, random_state=seed)"
   ]
  },
  {
   "cell_type": "code",
   "execution_count": 5,
   "id": "35f613b7",
   "metadata": {},
   "outputs": [],
   "source": [
    "modas = ['MSSubClass', 'MSZoning', 'Street', 'LotShape', 'LandContour', 'Utilities', 'LotConfig', 'LandSlope',\n",
    "         'Neighborhood', 'Condition1', 'Condition2', 'BldgType', 'HouseStyle', 'RoofStyle', 'RoofMatl', 'Exterior1st', \n",
    "         'Exterior2nd', 'MasVnrType', 'ExterQual', 'ExterCond', 'Foundation', 'Heating', 'HeatingQC', 'CentralAir',\n",
    "         'Electrical', 'KitchenQual', 'Functional', 'PavedDrive', 'MoSold', 'SaleType', 'SaleCondition']\n",
    "\n",
    "medianas = ['LotFrontage', 'LotArea', 'OverallQual', 'OverallCond', 'YearBuilt', 'YearRemodAdd', 'MasVnrArea',\n",
    "            'BsmtFinSF1', 'BsmtFinSF2', 'BsmtUnfSF', 'TotalBsmtSF', '1stFlrSF', '2ndFlrSF', 'LowQualFinSF', \n",
    "            'GrLivArea', 'BsmtFullBath', 'BsmtHalfBath',  'FullBath', 'HalfBath', 'BedroomAbvGr', 'KitchenAbvGr',\n",
    "            'TotRmsAbvGrd', 'Fireplaces', 'GarageYrBlt', 'GarageCars', 'GarageArea', 'WoodDeckSF', 'OpenPorchSF',\n",
    "            'EnclosedPorch', '3SsnPorch', 'ScreenPorch', 'PoolArea', 'MiscVal', 'YrSold']\n",
    "\n",
    "constantes = ['Alley', 'BsmtQual', 'BsmtCond', 'BsmtExposure', 'BsmtFinType1', 'BsmtFinType2', 'FireplaceQu',\n",
    "              'GarageType', 'GarageFinish', 'GarageQual', 'GarageCond', 'PoolQC', 'Fence', 'MiscFeature']"
   ]
  },
  {
   "cell_type": "code",
   "execution_count": 6,
   "id": "dc25c7be",
   "metadata": {},
   "outputs": [],
   "source": [
    "def check_all_fields(fields, columns):\n",
    "    \n",
    "    error_fields = [f for f in fields if f not in columns]\n",
    "    error_fields.extend([f for f in columns if f not in fields])\n",
    "    \n",
    "    if len(error_fields) > 0:\n",
    "        print(error_fields)\n",
    "    else:\n",
    "        print(\"Fields ok\")"
   ]
  },
  {
   "cell_type": "code",
   "execution_count": 7,
   "id": "72f7d06e",
   "metadata": {},
   "outputs": [],
   "source": [
    "num_fields = list(X_train.select_dtypes(exclude=['object']).columns)\n",
    "str_fields = list(X_train.select_dtypes(include=['object']).columns)\n",
    "\n",
    "idx_num_fields = [i for i, f in enumerate(X_train.columns) if f in num_fields]\n",
    "idx_str_fields = [i for i, f in enumerate(X_train.columns) if f in str_fields]"
   ]
  },
  {
   "cell_type": "code",
   "execution_count": 8,
   "id": "fc1335db",
   "metadata": {},
   "outputs": [
    {
     "name": "stdout",
     "output_type": "stream",
     "text": [
      "Fields ok\n",
      "Fields ok\n"
     ]
    }
   ],
   "source": [
    "fields_ct_impute = modas + medianas + constantes\n",
    "fields_ct_transform = num_fields + str_fields\n",
    "\n",
    "check_all_fields(fields_ct_impute, X_train.columns)\n",
    "check_all_fields(fields_ct_transform, X_train.columns)"
   ]
  },
  {
   "cell_type": "code",
   "execution_count": 9,
   "id": "ff15c9a6",
   "metadata": {},
   "outputs": [],
   "source": [
    "s_imp = SimpleImputer(strategy='most_frequent')\n",
    "X_train.loc[:, modas] = s_imp.fit_transform(X_train.loc[:, modas])\n",
    "X_test.loc[:, modas] = s_imp.transform(X_test.loc[:, modas])"
   ]
  },
  {
   "cell_type": "code",
   "execution_count": 10,
   "id": "a0fa2c1a",
   "metadata": {},
   "outputs": [],
   "source": [
    "s_imp = SimpleImputer(strategy='median')\n",
    "X_train.loc[:, medianas] = s_imp.fit_transform(X_train.loc[:, medianas])\n",
    "X_test.loc[:, medianas] = s_imp.transform(X_test.loc[:, medianas])"
   ]
  },
  {
   "cell_type": "code",
   "execution_count": 11,
   "id": "44761928",
   "metadata": {},
   "outputs": [],
   "source": [
    "s_imp = SimpleImputer(strategy='constant', fill_value='no-item')\n",
    "X_train.loc[:, constantes] = s_imp.fit_transform(X_train.loc[:, constantes])\n",
    "X_test.loc[:, constantes] = s_imp.transform(X_test.loc[:, constantes])"
   ]
  },
  {
   "cell_type": "code",
   "execution_count": 12,
   "id": "6e164049",
   "metadata": {},
   "outputs": [
    {
     "data": {
      "text/plain": [
       "<AxesSubplot:>"
      ]
     },
     "execution_count": 12,
     "metadata": {},
     "output_type": "execute_result"
    },
    {
     "data": {
      "image/png": "[encoded data removed]",
      "text/plain": [
       "<Figure size 640x480 with 2 Axes>"
      ]
     },
     "metadata": {},
     "output_type": "display_data"
    }
   ],
   "source": [
    "sns.heatmap(X_train.corr())"
   ]
  },
  {
   "cell_type": "code",
   "execution_count": 13,
   "id": "14655d18",
   "metadata": {},
   "outputs": [],
   "source": [
    "X_train = pd.get_dummies(X_train, columns=(str_fields + ['MSSubClass']))\n",
    "X_test  = pd.get_dummies(X_test, columns=(str_fields + ['MSSubClass']))\n",
    "\n",
    "X_test = X_test.reindex(columns=X_train.columns, fill_value=0)"
   ]
  },
  {
   "cell_type": "code",
   "execution_count": 14,
   "id": "fd27a791",
   "metadata": {},
   "outputs": [],
   "source": [
    "num_fields.remove('MSSubClass')\n",
    "scaler = MinMaxScaler()\n",
    "X_train.loc[:, num_fields] = scaler.fit_transform(X_train.loc[:, num_fields])\n",
    "X_test.loc[:, num_fields] = scaler.transform(X_test.loc[:, num_fields])\n"
   ]
  },
  {
   "cell_type": "code",
   "execution_count": 15,
   "id": "bef90599",
   "metadata": {},
   "outputs": [
    {
     "data": {
      "text/plain": [
       "309"
      ]
     },
     "execution_count": 15,
     "metadata": {},
     "output_type": "execute_result"
    }
   ],
   "source": [
    "X_train.shape[1]"
   ]
  },
  {
   "cell_type": "code",
   "execution_count": 16,
   "id": "ffaa3e2c",
   "metadata": {},
   "outputs": [],
   "source": [
    "selector = SelectKBest(chi2, k=200)\n",
    "X_train_new = selector.fit_transform(X_train, y_train)\n",
    "X_test_new = selector.transform(X_test)"
   ]
  },
  {
   "cell_type": "code",
   "execution_count": 17,
   "id": "c3247ca6",
   "metadata": {},
   "outputs": [],
   "source": [
    "params = {\n",
    "    \"n_estimators\": 500,\n",
    "    \"max_depth\": 10,\n",
    "    \"min_samples_split\": 5,\n",
    "    \"learning_rate\": 0.01,\n",
    "    \"loss\": \"squared_error\",\n",
    "    \"random_state\": seed,\n",
    "}"
   ]
  },
  {
   "cell_type": "code",
   "execution_count": 18,
   "id": "79076beb",
   "metadata": {},
   "outputs": [
    {
     "name": "stdout",
     "output_type": "stream",
     "text": [
      "The mean squared error (MSE) on test set: 1574214148.4580\n",
      "The accuracy is 0.7758\n"
     ]
    }
   ],
   "source": [
    "reg = GradientBoostingRegressor(**params)\n",
    "reg.fit(X_train_new, y_train)\n",
    "\n",
    "mse = mean_squared_error(y_test, reg.predict(X_test_new))\n",
    "print(\"The mean squared error (MSE) on test set: {:.4f}\".format(mse))\n",
    "print(\"The accuracy is {:.4f}\".format(reg.score(X_test_new, y_test)))"
   ]
  },
  {
   "cell_type": "code",
   "execution_count": 19,
   "id": "739b58f1",
   "metadata": {},
   "outputs": [
    {
     "data": {
      "text/plain": [
       "0.7757990000648356"
      ]
     },
     "execution_count": 19,
     "metadata": {},
     "output_type": "execute_result"
    }
   ],
   "source": [
    "reg.score(X_test_new, y_test)"
   ]
  },
  {
   "cell_type": "code",
   "execution_count": null,
   "id": "58d4292a",
   "metadata": {},
   "outputs": [],
   "source": []
  },
  {
   "cell_type": "code",
   "execution_count": null,
   "id": "4926977b",
   "metadata": {},
   "outputs": [],
   "source": []
  }
 ],
 "metadata": {
  "kernelspec": {
   "display_name": "spegc_env",
   "language": "python",
   "name": "spegc_env"
  },
  "language_info": {
   "codemirror_mode": {
    "name": "ipython",
    "version": 3
   },
   "file_extension": ".py",
   "mimetype": "text/x-python",
   "name": "python",
   "nbconvert_exporter": "python",
   "pygments_lexer": "ipython3",
   "version": "3.10.6"
  }
 },
 "nbformat": 4,
 "nbformat_minor": 5
}
